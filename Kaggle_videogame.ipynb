{
 "cells": [
  {
   "cell_type": "markdown",
   "metadata": {},
   "source": [
    "## PUGS Kaggle Challenge - Ziad Nader"
   ]
  },
  {
   "cell_type": "markdown",
   "metadata": {},
   "source": [
    "In a PUBG game, up to 100 players start in each match (matchId). Players can be on teams (groupId) which get ranked at the end of the game (winPlacePerc) based on how many other teams are still alive when they are eliminated. \n",
    "\n",
    "In game, players can pick up different munitions, revive downed-but-not-out (knocked) teammates, drive vehicles, swim, run, shoot, and experience all of the consequences -- such as falling too far or running themselves over and eliminating themselves.\n",
    "\n",
    "You are provided with a large number of anonymized PUBG game stats, formatted so that each row contains one player's post-game stats. The data comes from matches of all types: solos, duos, squads, and custom; there is no guarantee of there being 100 players per match, nor at most 4 player per group.\n",
    "\n",
    "You must create a model which predicts players' finishing placement based on their final stats, on a scale from 1 (first place) to 0 (last place).\n"
   ]
  },
  {
   "cell_type": "code",
   "execution_count": 2,
   "metadata": {},
   "outputs": [
    {
     "name": "stderr",
     "output_type": "stream",
     "text": [
      "C:\\Users\\znader\\AppData\\Local\\Continuum\\anaconda3\\lib\\site-packages\\sklearn\\cross_validation.py:41: DeprecationWarning: This module was deprecated in version 0.18 in favor of the model_selection module into which all the refactored classes and functions are moved. Also note that the interface of the new CV iterators are different from that of this module. This module will be removed in 0.20.\n",
      "  \"This module will be removed in 0.20.\", DeprecationWarning)\n"
     ]
    }
   ],
   "source": [
    "import numpy as np\n",
    "import pandas as pd\n",
    "import re, random, time\n",
    "from sklearn.metrics import roc_auc_score\n",
    "import xgboost as xgb\n",
    "from sklearn.model_selection import KFold\n",
    "import matplotlib.pyplot as plt\n",
    "%matplotlib inline\n",
    "pd.options.display.max_colwidth = 1000\n",
    "from sklearn.model_selection import train_test_split\n",
    "from sklearn.model_selection import GridSearchCV , RandomizedSearchCV"
   ]
  },
  {
   "cell_type": "markdown",
   "metadata": {},
   "source": [
    "## Data Load"
   ]
  },
  {
   "cell_type": "code",
   "execution_count": 3,
   "metadata": {},
   "outputs": [],
   "source": [
    "train = pd.read_csv(\"train_V2.csv\")\n",
    "test = pd.read_csv(\"test_V2.csv\")"
   ]
  },
  {
   "cell_type": "markdown",
   "metadata": {},
   "source": [
    "## Missing Values Check"
   ]
  },
  {
   "cell_type": "code",
   "execution_count": 4,
   "metadata": {},
   "outputs": [],
   "source": [
    "nan_rows = train[train['winPlacePerc'].isnull()]"
   ]
  },
  {
   "cell_type": "code",
   "execution_count": 5,
   "metadata": {},
   "outputs": [],
   "source": [
    "train = train.drop(train.index[2744604])"
   ]
  },
  {
   "cell_type": "code",
   "execution_count": 25,
   "metadata": {},
   "outputs": [
    {
     "data": {
      "text/html": [
       "<div>\n",
       "<style scoped>\n",
       "    .dataframe tbody tr th:only-of-type {\n",
       "        vertical-align: middle;\n",
       "    }\n",
       "\n",
       "    .dataframe tbody tr th {\n",
       "        vertical-align: top;\n",
       "    }\n",
       "\n",
       "    .dataframe thead th {\n",
       "        text-align: right;\n",
       "    }\n",
       "</style>\n",
       "<table border=\"1\" class=\"dataframe\">\n",
       "  <thead>\n",
       "    <tr style=\"text-align: right;\">\n",
       "      <th></th>\n",
       "      <th>assists</th>\n",
       "      <th>boosts</th>\n",
       "      <th>damageDealt</th>\n",
       "      <th>DBNOs</th>\n",
       "      <th>headshotKills</th>\n",
       "      <th>heals</th>\n",
       "      <th>killPlace</th>\n",
       "      <th>killPoints</th>\n",
       "      <th>kills</th>\n",
       "      <th>killStreaks</th>\n",
       "      <th>...</th>\n",
       "      <th>revives</th>\n",
       "      <th>rideDistance</th>\n",
       "      <th>roadKills</th>\n",
       "      <th>swimDistance</th>\n",
       "      <th>teamKills</th>\n",
       "      <th>vehicleDestroys</th>\n",
       "      <th>walkDistance</th>\n",
       "      <th>weaponsAcquired</th>\n",
       "      <th>winPoints</th>\n",
       "      <th>winPlacePerc</th>\n",
       "    </tr>\n",
       "  </thead>\n",
       "  <tbody>\n",
       "    <tr>\n",
       "      <th>count</th>\n",
       "      <td>4.446965e+06</td>\n",
       "      <td>4.446965e+06</td>\n",
       "      <td>4.446965e+06</td>\n",
       "      <td>4.446965e+06</td>\n",
       "      <td>4.446965e+06</td>\n",
       "      <td>4.446965e+06</td>\n",
       "      <td>4.446965e+06</td>\n",
       "      <td>4.446965e+06</td>\n",
       "      <td>4.446965e+06</td>\n",
       "      <td>4.446965e+06</td>\n",
       "      <td>...</td>\n",
       "      <td>4.446965e+06</td>\n",
       "      <td>4.446965e+06</td>\n",
       "      <td>4.446965e+06</td>\n",
       "      <td>4.446965e+06</td>\n",
       "      <td>4.446965e+06</td>\n",
       "      <td>4.446965e+06</td>\n",
       "      <td>4.446965e+06</td>\n",
       "      <td>4.446965e+06</td>\n",
       "      <td>4.446965e+06</td>\n",
       "      <td>4.446965e+06</td>\n",
       "    </tr>\n",
       "    <tr>\n",
       "      <th>mean</th>\n",
       "      <td>2.338150e-01</td>\n",
       "      <td>1.106908e+00</td>\n",
       "      <td>1.307172e+02</td>\n",
       "      <td>6.578757e-01</td>\n",
       "      <td>2.268196e-01</td>\n",
       "      <td>1.370148e+00</td>\n",
       "      <td>4.759936e+01</td>\n",
       "      <td>5.050062e+02</td>\n",
       "      <td>9.247835e-01</td>\n",
       "      <td>5.439553e-01</td>\n",
       "      <td>...</td>\n",
       "      <td>1.646590e-01</td>\n",
       "      <td>6.061158e+02</td>\n",
       "      <td>3.496092e-03</td>\n",
       "      <td>4.509323e+00</td>\n",
       "      <td>2.386841e-02</td>\n",
       "      <td>7.918209e-03</td>\n",
       "      <td>1.154218e+03</td>\n",
       "      <td>3.660488e+00</td>\n",
       "      <td>6.064603e+02</td>\n",
       "      <td>4.728216e-01</td>\n",
       "    </tr>\n",
       "    <tr>\n",
       "      <th>std</th>\n",
       "      <td>5.885731e-01</td>\n",
       "      <td>1.715794e+00</td>\n",
       "      <td>1.707806e+02</td>\n",
       "      <td>1.145743e+00</td>\n",
       "      <td>6.021553e-01</td>\n",
       "      <td>2.679982e+00</td>\n",
       "      <td>2.746293e+01</td>\n",
       "      <td>6.275049e+02</td>\n",
       "      <td>1.558445e+00</td>\n",
       "      <td>7.109721e-01</td>\n",
       "      <td>...</td>\n",
       "      <td>4.721671e-01</td>\n",
       "      <td>1.498344e+03</td>\n",
       "      <td>7.337297e-02</td>\n",
       "      <td>3.050220e+01</td>\n",
       "      <td>1.673935e-01</td>\n",
       "      <td>9.261158e-02</td>\n",
       "      <td>1.183497e+03</td>\n",
       "      <td>2.456543e+00</td>\n",
       "      <td>7.397005e+02</td>\n",
       "      <td>3.074050e-01</td>\n",
       "    </tr>\n",
       "    <tr>\n",
       "      <th>min</th>\n",
       "      <td>0.000000e+00</td>\n",
       "      <td>0.000000e+00</td>\n",
       "      <td>0.000000e+00</td>\n",
       "      <td>0.000000e+00</td>\n",
       "      <td>0.000000e+00</td>\n",
       "      <td>0.000000e+00</td>\n",
       "      <td>1.000000e+00</td>\n",
       "      <td>0.000000e+00</td>\n",
       "      <td>0.000000e+00</td>\n",
       "      <td>0.000000e+00</td>\n",
       "      <td>...</td>\n",
       "      <td>0.000000e+00</td>\n",
       "      <td>0.000000e+00</td>\n",
       "      <td>0.000000e+00</td>\n",
       "      <td>0.000000e+00</td>\n",
       "      <td>0.000000e+00</td>\n",
       "      <td>0.000000e+00</td>\n",
       "      <td>0.000000e+00</td>\n",
       "      <td>0.000000e+00</td>\n",
       "      <td>0.000000e+00</td>\n",
       "      <td>0.000000e+00</td>\n",
       "    </tr>\n",
       "    <tr>\n",
       "      <th>25%</th>\n",
       "      <td>0.000000e+00</td>\n",
       "      <td>0.000000e+00</td>\n",
       "      <td>0.000000e+00</td>\n",
       "      <td>0.000000e+00</td>\n",
       "      <td>0.000000e+00</td>\n",
       "      <td>0.000000e+00</td>\n",
       "      <td>2.400000e+01</td>\n",
       "      <td>0.000000e+00</td>\n",
       "      <td>0.000000e+00</td>\n",
       "      <td>0.000000e+00</td>\n",
       "      <td>...</td>\n",
       "      <td>0.000000e+00</td>\n",
       "      <td>0.000000e+00</td>\n",
       "      <td>0.000000e+00</td>\n",
       "      <td>0.000000e+00</td>\n",
       "      <td>0.000000e+00</td>\n",
       "      <td>0.000000e+00</td>\n",
       "      <td>1.551000e+02</td>\n",
       "      <td>2.000000e+00</td>\n",
       "      <td>0.000000e+00</td>\n",
       "      <td>2.000000e-01</td>\n",
       "    </tr>\n",
       "    <tr>\n",
       "      <th>50%</th>\n",
       "      <td>0.000000e+00</td>\n",
       "      <td>0.000000e+00</td>\n",
       "      <td>8.424000e+01</td>\n",
       "      <td>0.000000e+00</td>\n",
       "      <td>0.000000e+00</td>\n",
       "      <td>0.000000e+00</td>\n",
       "      <td>4.700000e+01</td>\n",
       "      <td>0.000000e+00</td>\n",
       "      <td>0.000000e+00</td>\n",
       "      <td>0.000000e+00</td>\n",
       "      <td>...</td>\n",
       "      <td>0.000000e+00</td>\n",
       "      <td>0.000000e+00</td>\n",
       "      <td>0.000000e+00</td>\n",
       "      <td>0.000000e+00</td>\n",
       "      <td>0.000000e+00</td>\n",
       "      <td>0.000000e+00</td>\n",
       "      <td>6.856000e+02</td>\n",
       "      <td>3.000000e+00</td>\n",
       "      <td>0.000000e+00</td>\n",
       "      <td>4.583000e-01</td>\n",
       "    </tr>\n",
       "    <tr>\n",
       "      <th>75%</th>\n",
       "      <td>0.000000e+00</td>\n",
       "      <td>2.000000e+00</td>\n",
       "      <td>1.860000e+02</td>\n",
       "      <td>1.000000e+00</td>\n",
       "      <td>0.000000e+00</td>\n",
       "      <td>2.000000e+00</td>\n",
       "      <td>7.100000e+01</td>\n",
       "      <td>1.172000e+03</td>\n",
       "      <td>1.000000e+00</td>\n",
       "      <td>1.000000e+00</td>\n",
       "      <td>...</td>\n",
       "      <td>0.000000e+00</td>\n",
       "      <td>1.910000e-01</td>\n",
       "      <td>0.000000e+00</td>\n",
       "      <td>0.000000e+00</td>\n",
       "      <td>0.000000e+00</td>\n",
       "      <td>0.000000e+00</td>\n",
       "      <td>1.976000e+03</td>\n",
       "      <td>5.000000e+00</td>\n",
       "      <td>1.495000e+03</td>\n",
       "      <td>7.407000e-01</td>\n",
       "    </tr>\n",
       "    <tr>\n",
       "      <th>max</th>\n",
       "      <td>2.200000e+01</td>\n",
       "      <td>3.300000e+01</td>\n",
       "      <td>6.616000e+03</td>\n",
       "      <td>5.300000e+01</td>\n",
       "      <td>6.400000e+01</td>\n",
       "      <td>8.000000e+01</td>\n",
       "      <td>1.010000e+02</td>\n",
       "      <td>2.170000e+03</td>\n",
       "      <td>7.200000e+01</td>\n",
       "      <td>2.000000e+01</td>\n",
       "      <td>...</td>\n",
       "      <td>3.900000e+01</td>\n",
       "      <td>4.071000e+04</td>\n",
       "      <td>1.800000e+01</td>\n",
       "      <td>3.823000e+03</td>\n",
       "      <td>1.200000e+01</td>\n",
       "      <td>5.000000e+00</td>\n",
       "      <td>2.578000e+04</td>\n",
       "      <td>2.360000e+02</td>\n",
       "      <td>2.013000e+03</td>\n",
       "      <td>1.000000e+00</td>\n",
       "    </tr>\n",
       "  </tbody>\n",
       "</table>\n",
       "<p>8 rows × 25 columns</p>\n",
       "</div>"
      ],
      "text/plain": [
       "            assists        boosts   damageDealt         DBNOs  headshotKills  \\\n",
       "count  4.446965e+06  4.446965e+06  4.446965e+06  4.446965e+06   4.446965e+06   \n",
       "mean   2.338150e-01  1.106908e+00  1.307172e+02  6.578757e-01   2.268196e-01   \n",
       "std    5.885731e-01  1.715794e+00  1.707806e+02  1.145743e+00   6.021553e-01   \n",
       "min    0.000000e+00  0.000000e+00  0.000000e+00  0.000000e+00   0.000000e+00   \n",
       "25%    0.000000e+00  0.000000e+00  0.000000e+00  0.000000e+00   0.000000e+00   \n",
       "50%    0.000000e+00  0.000000e+00  8.424000e+01  0.000000e+00   0.000000e+00   \n",
       "75%    0.000000e+00  2.000000e+00  1.860000e+02  1.000000e+00   0.000000e+00   \n",
       "max    2.200000e+01  3.300000e+01  6.616000e+03  5.300000e+01   6.400000e+01   \n",
       "\n",
       "              heals     killPlace    killPoints         kills   killStreaks  \\\n",
       "count  4.446965e+06  4.446965e+06  4.446965e+06  4.446965e+06  4.446965e+06   \n",
       "mean   1.370148e+00  4.759936e+01  5.050062e+02  9.247835e-01  5.439553e-01   \n",
       "std    2.679982e+00  2.746293e+01  6.275049e+02  1.558445e+00  7.109721e-01   \n",
       "min    0.000000e+00  1.000000e+00  0.000000e+00  0.000000e+00  0.000000e+00   \n",
       "25%    0.000000e+00  2.400000e+01  0.000000e+00  0.000000e+00  0.000000e+00   \n",
       "50%    0.000000e+00  4.700000e+01  0.000000e+00  0.000000e+00  0.000000e+00   \n",
       "75%    2.000000e+00  7.100000e+01  1.172000e+03  1.000000e+00  1.000000e+00   \n",
       "max    8.000000e+01  1.010000e+02  2.170000e+03  7.200000e+01  2.000000e+01   \n",
       "\n",
       "           ...            revives  rideDistance     roadKills  swimDistance  \\\n",
       "count      ...       4.446965e+06  4.446965e+06  4.446965e+06  4.446965e+06   \n",
       "mean       ...       1.646590e-01  6.061158e+02  3.496092e-03  4.509323e+00   \n",
       "std        ...       4.721671e-01  1.498344e+03  7.337297e-02  3.050220e+01   \n",
       "min        ...       0.000000e+00  0.000000e+00  0.000000e+00  0.000000e+00   \n",
       "25%        ...       0.000000e+00  0.000000e+00  0.000000e+00  0.000000e+00   \n",
       "50%        ...       0.000000e+00  0.000000e+00  0.000000e+00  0.000000e+00   \n",
       "75%        ...       0.000000e+00  1.910000e-01  0.000000e+00  0.000000e+00   \n",
       "max        ...       3.900000e+01  4.071000e+04  1.800000e+01  3.823000e+03   \n",
       "\n",
       "          teamKills  vehicleDestroys  walkDistance  weaponsAcquired  \\\n",
       "count  4.446965e+06     4.446965e+06  4.446965e+06     4.446965e+06   \n",
       "mean   2.386841e-02     7.918209e-03  1.154218e+03     3.660488e+00   \n",
       "std    1.673935e-01     9.261158e-02  1.183497e+03     2.456543e+00   \n",
       "min    0.000000e+00     0.000000e+00  0.000000e+00     0.000000e+00   \n",
       "25%    0.000000e+00     0.000000e+00  1.551000e+02     2.000000e+00   \n",
       "50%    0.000000e+00     0.000000e+00  6.856000e+02     3.000000e+00   \n",
       "75%    0.000000e+00     0.000000e+00  1.976000e+03     5.000000e+00   \n",
       "max    1.200000e+01     5.000000e+00  2.578000e+04     2.360000e+02   \n",
       "\n",
       "          winPoints  winPlacePerc  \n",
       "count  4.446965e+06  4.446965e+06  \n",
       "mean   6.064603e+02  4.728216e-01  \n",
       "std    7.397005e+02  3.074050e-01  \n",
       "min    0.000000e+00  0.000000e+00  \n",
       "25%    0.000000e+00  2.000000e-01  \n",
       "50%    0.000000e+00  4.583000e-01  \n",
       "75%    1.495000e+03  7.407000e-01  \n",
       "max    2.013000e+03  1.000000e+00  \n",
       "\n",
       "[8 rows x 25 columns]"
      ]
     },
     "execution_count": 25,
     "metadata": {},
     "output_type": "execute_result"
    }
   ],
   "source": [
    "train.describe()"
   ]
  },
  {
   "cell_type": "code",
   "execution_count": 26,
   "metadata": {
    "collapsed": true
   },
   "outputs": [
    {
     "data": {
      "text/plain": [
       "Id                  object\n",
       "groupId             object\n",
       "matchId             object\n",
       "assists              int64\n",
       "boosts               int64\n",
       "damageDealt        float64\n",
       "DBNOs                int64\n",
       "headshotKills        int64\n",
       "heals                int64\n",
       "killPlace            int64\n",
       "killPoints           int64\n",
       "kills                int64\n",
       "killStreaks          int64\n",
       "longestKill        float64\n",
       "matchDuration        int64\n",
       "matchType           object\n",
       "maxPlace             int64\n",
       "numGroups            int64\n",
       "rankPoints           int64\n",
       "revives              int64\n",
       "rideDistance       float64\n",
       "roadKills            int64\n",
       "swimDistance       float64\n",
       "teamKills            int64\n",
       "vehicleDestroys      int64\n",
       "walkDistance       float64\n",
       "weaponsAcquired      int64\n",
       "winPoints            int64\n",
       "winPlacePerc       float64\n",
       "dtype: object"
      ]
     },
     "execution_count": 26,
     "metadata": {},
     "output_type": "execute_result"
    }
   ],
   "source": [
    "train.dtypes"
   ]
  },
  {
   "cell_type": "code",
   "execution_count": 6,
   "metadata": {},
   "outputs": [
    {
     "data": {
      "text/html": [
       "<div>\n",
       "<style scoped>\n",
       "    .dataframe tbody tr th:only-of-type {\n",
       "        vertical-align: middle;\n",
       "    }\n",
       "\n",
       "    .dataframe tbody tr th {\n",
       "        vertical-align: top;\n",
       "    }\n",
       "\n",
       "    .dataframe thead th {\n",
       "        text-align: right;\n",
       "    }\n",
       "</style>\n",
       "<table border=\"1\" class=\"dataframe\">\n",
       "  <thead>\n",
       "    <tr style=\"text-align: right;\">\n",
       "      <th></th>\n",
       "      <th>Id</th>\n",
       "      <th>groupId</th>\n",
       "      <th>matchId</th>\n",
       "      <th>assists</th>\n",
       "      <th>boosts</th>\n",
       "      <th>damageDealt</th>\n",
       "      <th>DBNOs</th>\n",
       "      <th>headshotKills</th>\n",
       "      <th>heals</th>\n",
       "      <th>killPlace</th>\n",
       "      <th>...</th>\n",
       "      <th>revives</th>\n",
       "      <th>rideDistance</th>\n",
       "      <th>roadKills</th>\n",
       "      <th>swimDistance</th>\n",
       "      <th>teamKills</th>\n",
       "      <th>vehicleDestroys</th>\n",
       "      <th>walkDistance</th>\n",
       "      <th>weaponsAcquired</th>\n",
       "      <th>winPoints</th>\n",
       "      <th>winPlacePerc</th>\n",
       "    </tr>\n",
       "  </thead>\n",
       "  <tbody>\n",
       "    <tr>\n",
       "      <th>2744604</th>\n",
       "      <td>f70c74418bb064</td>\n",
       "      <td>12dfbede33f92b</td>\n",
       "      <td>224a123c53e008</td>\n",
       "      <td>0</td>\n",
       "      <td>0</td>\n",
       "      <td>0.0</td>\n",
       "      <td>0</td>\n",
       "      <td>0</td>\n",
       "      <td>0</td>\n",
       "      <td>1</td>\n",
       "      <td>...</td>\n",
       "      <td>0</td>\n",
       "      <td>0.0</td>\n",
       "      <td>0</td>\n",
       "      <td>0.0</td>\n",
       "      <td>0</td>\n",
       "      <td>0</td>\n",
       "      <td>0.0</td>\n",
       "      <td>0</td>\n",
       "      <td>0</td>\n",
       "      <td>NaN</td>\n",
       "    </tr>\n",
       "  </tbody>\n",
       "</table>\n",
       "<p>1 rows × 29 columns</p>\n",
       "</div>"
      ],
      "text/plain": [
       "                     Id         groupId         matchId  assists  boosts  \\\n",
       "2744604  f70c74418bb064  12dfbede33f92b  224a123c53e008        0       0   \n",
       "\n",
       "         damageDealt  DBNOs  headshotKills  heals  killPlace      ...       \\\n",
       "2744604          0.0      0              0      0          1      ...        \n",
       "\n",
       "         revives  rideDistance  roadKills  swimDistance  teamKills  \\\n",
       "2744604        0           0.0          0           0.0          0   \n",
       "\n",
       "        vehicleDestroys  walkDistance  weaponsAcquired  winPoints  \\\n",
       "2744604               0           0.0                0          0   \n",
       "\n",
       "         winPlacePerc  \n",
       "2744604           NaN  \n",
       "\n",
       "[1 rows x 29 columns]"
      ]
     },
     "execution_count": 6,
     "metadata": {},
     "output_type": "execute_result"
    }
   ],
   "source": [
    "nan_rows"
   ]
  },
  {
   "cell_type": "code",
   "execution_count": 6,
   "metadata": {},
   "outputs": [],
   "source": [
    "sample = pd.read_csv(\"sample_submission_V2.csv\")"
   ]
  },
  {
   "cell_type": "code",
   "execution_count": 7,
   "metadata": {},
   "outputs": [],
   "source": [
    "train_size = train.groupby(['matchId','groupId']).size().reset_index(name='group_size')\n",
    "\n"
   ]
  },
  {
   "cell_type": "code",
   "execution_count": 8,
   "metadata": {},
   "outputs": [],
   "source": [
    "\n",
    "train_mean = train.groupby(['matchId','groupId']).mean().reset_index()\n"
   ]
  },
  {
   "cell_type": "code",
   "execution_count": 9,
   "metadata": {},
   "outputs": [],
   "source": [
    "test_size = test.groupby(['matchId','groupId']).size().reset_index(name='group_size')"
   ]
  },
  {
   "cell_type": "code",
   "execution_count": 10,
   "metadata": {},
   "outputs": [],
   "source": [
    "test_mean = test.groupby(['matchId','groupId']).mean().reset_index()"
   ]
  },
  {
   "cell_type": "code",
   "execution_count": 11,
   "metadata": {},
   "outputs": [],
   "source": [
    "train_match_mean = train.groupby(['matchId']).mean().reset_index()\n",
    "test_match_mean = test.groupby(['matchId']).mean().reset_index()\n",
    "\n",
    "train = pd.merge(train, train_mean, suffixes=[\"\", \"_mean\"], how='left', on=['matchId', 'groupId'])\n",
    "test = pd.merge(test, test_mean, suffixes=[\"\", \"_mean\"], how='left', on=['matchId', 'groupId'])\n",
    "del train_mean\n",
    "del test_mean\n",
    "\n",
    "train = pd.merge(train, train_match_mean, suffixes=[\"\", \"_match_mean\"], how='left', on=['matchId'])\n",
    "test = pd.merge(test, test_match_mean, suffixes=[\"\", \"_match_mean\"], how='left', on=['matchId'])\n",
    "del train_match_mean\n",
    "del test_match_mean\n",
    "\n",
    "train = pd.merge(train, train_size, how='left', on=['matchId', 'groupId'])\n",
    "test = pd.merge(test, test_size, how='left', on=['matchId', 'groupId'])\n",
    "del train_size\n",
    "del test_size\n",
    "\n",
    "train_columns = list(test.columns)"
   ]
  },
  {
   "cell_type": "code",
   "execution_count": 12,
   "metadata": {
    "collapsed": true
   },
   "outputs": [
    {
     "ename": "ValueError",
     "evalue": "list.remove(x): x not in list",
     "output_type": "error",
     "traceback": [
      "\u001b[1;31m---------------------------------------------------------------------------\u001b[0m",
      "\u001b[1;31mValueError\u001b[0m                                Traceback (most recent call last)",
      "\u001b[1;32m<ipython-input-12-497ffef2e098>\u001b[0m in \u001b[0;36m<module>\u001b[1;34m()\u001b[0m\n\u001b[0;32m      2\u001b[0m \u001b[0mtrain_columns\u001b[0m\u001b[1;33m.\u001b[0m\u001b[0mremove\u001b[0m\u001b[1;33m(\u001b[0m\u001b[1;34m\"matchId\"\u001b[0m\u001b[1;33m)\u001b[0m\u001b[1;33m\u001b[0m\u001b[0m\n\u001b[0;32m      3\u001b[0m \u001b[0mtrain_columns\u001b[0m\u001b[1;33m.\u001b[0m\u001b[0mremove\u001b[0m\u001b[1;33m(\u001b[0m\u001b[1;34m\"groupId\"\u001b[0m\u001b[1;33m)\u001b[0m\u001b[1;33m\u001b[0m\u001b[0m\n\u001b[1;32m----> 4\u001b[1;33m \u001b[0mtrain_columns\u001b[0m\u001b[1;33m.\u001b[0m\u001b[0mremove\u001b[0m\u001b[1;33m(\u001b[0m\u001b[1;34m\"Id_mean\"\u001b[0m\u001b[1;33m)\u001b[0m\u001b[1;33m\u001b[0m\u001b[0m\n\u001b[0m\u001b[0;32m      5\u001b[0m \u001b[0mtrain_columns\u001b[0m\u001b[1;33m.\u001b[0m\u001b[0mremove\u001b[0m\u001b[1;33m(\u001b[0m\u001b[1;34m\"Id_match_mean\"\u001b[0m\u001b[1;33m)\u001b[0m\u001b[1;33m\u001b[0m\u001b[0m\n",
      "\u001b[1;31mValueError\u001b[0m: list.remove(x): x not in list"
     ]
    }
   ],
   "source": [
    "train_columns.remove(\"Id\")\n",
    "train_columns.remove(\"matchId\")\n",
    "train_columns.remove(\"groupId\")\n",
    "train_columns.remove(\"Id_mean\")\n",
    "train_columns.remove(\"Id_match_mean\")"
   ]
  },
  {
   "cell_type": "code",
   "execution_count": 15,
   "metadata": {
    "collapsed": true
   },
   "outputs": [
    {
     "data": {
      "text/plain": [
       "['assists',\n",
       " 'boosts',\n",
       " 'damageDealt',\n",
       " 'DBNOs',\n",
       " 'headshotKills',\n",
       " 'heals',\n",
       " 'killPlace',\n",
       " 'killPoints',\n",
       " 'kills',\n",
       " 'killStreaks',\n",
       " 'longestKill',\n",
       " 'matchDuration',\n",
       " 'matchType',\n",
       " 'maxPlace',\n",
       " 'numGroups',\n",
       " 'rankPoints',\n",
       " 'revives',\n",
       " 'rideDistance',\n",
       " 'roadKills',\n",
       " 'swimDistance',\n",
       " 'teamKills',\n",
       " 'vehicleDestroys',\n",
       " 'walkDistance',\n",
       " 'weaponsAcquired',\n",
       " 'winPoints',\n",
       " 'assists_mean',\n",
       " 'boosts_mean',\n",
       " 'damageDealt_mean',\n",
       " 'DBNOs_mean',\n",
       " 'headshotKills_mean',\n",
       " 'heals_mean',\n",
       " 'killPlace_mean',\n",
       " 'killPoints_mean',\n",
       " 'kills_mean',\n",
       " 'killStreaks_mean',\n",
       " 'longestKill_mean',\n",
       " 'matchDuration_mean',\n",
       " 'maxPlace_mean',\n",
       " 'numGroups_mean',\n",
       " 'rankPoints_mean',\n",
       " 'revives_mean',\n",
       " 'rideDistance_mean',\n",
       " 'roadKills_mean',\n",
       " 'swimDistance_mean',\n",
       " 'teamKills_mean',\n",
       " 'vehicleDestroys_mean',\n",
       " 'walkDistance_mean',\n",
       " 'weaponsAcquired_mean',\n",
       " 'winPoints_mean',\n",
       " 'assists_match_mean',\n",
       " 'boosts_match_mean',\n",
       " 'damageDealt_match_mean',\n",
       " 'DBNOs_match_mean',\n",
       " 'headshotKills_match_mean',\n",
       " 'heals_match_mean',\n",
       " 'killPlace_match_mean',\n",
       " 'killPoints_match_mean',\n",
       " 'kills_match_mean',\n",
       " 'killStreaks_match_mean',\n",
       " 'longestKill_match_mean',\n",
       " 'matchDuration_match_mean',\n",
       " 'maxPlace_match_mean',\n",
       " 'numGroups_match_mean',\n",
       " 'rankPoints_match_mean',\n",
       " 'revives_match_mean',\n",
       " 'rideDistance_match_mean',\n",
       " 'roadKills_match_mean',\n",
       " 'swimDistance_match_mean',\n",
       " 'teamKills_match_mean',\n",
       " 'vehicleDestroys_match_mean',\n",
       " 'walkDistance_match_mean',\n",
       " 'weaponsAcquired_match_mean',\n",
       " 'winPoints_match_mean',\n",
       " 'group_size']"
      ]
     },
     "execution_count": 15,
     "metadata": {},
     "output_type": "execute_result"
    }
   ],
   "source": [
    "train_columns"
   ]
  },
  {
   "cell_type": "code",
   "execution_count": 16,
   "metadata": {},
   "outputs": [],
   "source": [
    "train_columns_new = []\n",
    "for name in train_columns:\n",
    "    if '_' in name:\n",
    "        train_columns_new.append(name)\n",
    "train_columns = train_columns_new    "
   ]
  },
  {
   "cell_type": "code",
   "execution_count": 17,
   "metadata": {},
   "outputs": [],
   "source": [
    "X_train = train[train_columns]\n",
    "X_test = test[train_columns]"
   ]
  },
  {
   "cell_type": "markdown",
   "metadata": {},
   "source": [
    "Feature engineering"
   ]
  },
  {
   "cell_type": "code",
   "execution_count": 18,
   "metadata": {},
   "outputs": [],
   "source": [
    "df_train = X_train"
   ]
  },
  {
   "cell_type": "code",
   "execution_count": 19,
   "metadata": {},
   "outputs": [],
   "source": [
    "X = df_train\n",
    "y = train.winPlacePerc"
   ]
  },
  {
   "cell_type": "code",
   "execution_count": 20,
   "metadata": {},
   "outputs": [],
   "source": [
    "X_train, X_test, y_train, y_test = train_test_split(X, y, test_size=0.33, random_state=42)"
   ]
  },
  {
   "cell_type": "markdown",
   "metadata": {},
   "source": [
    "np.random.seed(1)\n",
    "train_rows = np.random.choice(df_train.index, int(len(df_train)* 0.8), replace=False)\n",
    "valid_rows = [x for x in df_train.index if x not in train_rows]\n",
    "df_train1 = df_train.loc[train_rows]\n",
    "df_valid1 = df_train.loc[valid_rows]\n",
    "\n",
    "train_X = df_train1.drop(['Id', 'groupId', 'matchId'], axis = 1)\n",
    "train_Y = df_train1.winPlacePerc\n",
    "valid_X = df_valid1.drop(['Id', 'groupId', 'matchId'], axis = 1)\n",
    "valid_Y = df_valid1.winPlacePerc"
   ]
  },
  {
   "cell_type": "markdown",
   "metadata": {},
   "source": [
    "train_X = df_train1.drop(['Id', 'groupId', 'matchId' , 'winPlacePerc'], axis = 1)\n",
    "\n",
    "valid_X = df_valid1.drop(['Id', 'groupId', 'matchId' , 'winPlacePerc'], axis = 1)"
   ]
  },
  {
   "cell_type": "code",
   "execution_count": 21,
   "metadata": {},
   "outputs": [],
   "source": [
    "train_X = X_train\n",
    "train_Y = y_train\n",
    "valid_X = X_test\n",
    "valid_Y = y_test"
   ]
  },
  {
   "cell_type": "code",
   "execution_count": 22,
   "metadata": {},
   "outputs": [],
   "source": [
    "dtrain = xgb.DMatrix(train_X, label=train_Y.values)\n",
    "dtest = xgb.DMatrix(valid_X , label  = valid_Y.values)\n",
    "evallist  = [(dtest,'eval'), (dtrain,'train')]"
   ]
  },
  {
   "cell_type": "code",
   "execution_count": 23,
   "metadata": {},
   "outputs": [],
   "source": [
    "params = {\n",
    "    'eta': 0.5, \n",
    "    'boosting': 'gbtree', \n",
    "    'objective': 'reg:logistic', \n",
    "    'eval_metric': 'mae', \n",
    "    'is_training_metric': False, \n",
    "    'scale_pos_weight': 0.5,\n",
    "    'max_depth': 15,  \n",
    "    'min_child_samples': 100,  \n",
    "    'max_bin': 100,  \n",
    "    'subsample': 0.7,  \n",
    "    'subsample_freq': 1,  \n",
    "    'colsample_bytree': 0.7,\n",
    "    'seed': 0\n",
    "}\n"
   ]
  },
  {
   "cell_type": "code",
   "execution_count": 24,
   "metadata": {},
   "outputs": [
    {
     "name": "stdout",
     "output_type": "stream",
     "text": [
      "[0]\teval-mae:0.154599\ttrain-mae:0.154141\n",
      "Multiple eval metrics have been passed: 'train-mae' will be used for early stopping.\n",
      "\n",
      "Will train until train-mae hasn't improved in 10 rounds.\n",
      "[1]\teval-mae:0.096811\ttrain-mae:0.095671\n",
      "[2]\teval-mae:0.069397\ttrain-mae:0.067664\n",
      "[3]\teval-mae:0.056649\ttrain-mae:0.054343\n",
      "[4]\teval-mae:0.050467\ttrain-mae:0.04779\n",
      "[5]\teval-mae:0.048178\ttrain-mae:0.045169\n",
      "[6]\teval-mae:0.046035\ttrain-mae:0.042751\n",
      "[7]\teval-mae:0.044723\ttrain-mae:0.041301\n",
      "[8]\teval-mae:0.043939\ttrain-mae:0.040381\n",
      "[9]\teval-mae:0.043457\ttrain-mae:0.039814\n",
      "[10]\teval-mae:0.042996\ttrain-mae:0.03924\n",
      "[11]\teval-mae:0.042769\ttrain-mae:0.038917\n",
      "[12]\teval-mae:0.042426\ttrain-mae:0.0385\n",
      "[13]\teval-mae:0.041778\ttrain-mae:0.037702\n",
      "[14]\teval-mae:0.041329\ttrain-mae:0.037063\n",
      "[15]\teval-mae:0.040842\ttrain-mae:0.036325\n",
      "[16]\teval-mae:0.040416\ttrain-mae:0.035739\n",
      "[17]\teval-mae:0.040159\ttrain-mae:0.035346\n",
      "[18]\teval-mae:0.03994\ttrain-mae:0.03502\n",
      "[19]\teval-mae:0.039668\ttrain-mae:0.034607\n",
      "[20]\teval-mae:0.039277\ttrain-mae:0.034079\n",
      "[21]\teval-mae:0.038945\ttrain-mae:0.033543\n",
      "[22]\teval-mae:0.038652\ttrain-mae:0.033148\n",
      "[23]\teval-mae:0.038497\ttrain-mae:0.032881\n",
      "[24]\teval-mae:0.038293\ttrain-mae:0.032581\n",
      "[25]\teval-mae:0.038243\ttrain-mae:0.032494\n",
      "[26]\teval-mae:0.037977\ttrain-mae:0.032093\n",
      "[27]\teval-mae:0.037895\ttrain-mae:0.031933\n",
      "[28]\teval-mae:0.037568\ttrain-mae:0.031432\n",
      "[29]\teval-mae:0.037292\ttrain-mae:0.031032\n",
      "[30]\teval-mae:0.03704\ttrain-mae:0.030719\n",
      "[31]\teval-mae:0.036959\ttrain-mae:0.030612\n",
      "[32]\teval-mae:0.036865\ttrain-mae:0.030471\n",
      "[33]\teval-mae:0.036678\ttrain-mae:0.030224\n",
      "[34]\teval-mae:0.03657\ttrain-mae:0.030051\n",
      "[35]\teval-mae:0.036224\ttrain-mae:0.029567\n",
      "[36]\teval-mae:0.036157\ttrain-mae:0.029477\n",
      "[37]\teval-mae:0.035875\ttrain-mae:0.02912\n",
      "[38]\teval-mae:0.035699\ttrain-mae:0.028871\n",
      "[39]\teval-mae:0.035605\ttrain-mae:0.028742\n",
      "[40]\teval-mae:0.035504\ttrain-mae:0.028581\n",
      "[41]\teval-mae:0.035357\ttrain-mae:0.028351\n",
      "[42]\teval-mae:0.035287\ttrain-mae:0.028225\n",
      "[43]\teval-mae:0.035243\ttrain-mae:0.028153\n",
      "[44]\teval-mae:0.035131\ttrain-mae:0.027969\n",
      "[45]\teval-mae:0.034981\ttrain-mae:0.027761\n",
      "[46]\teval-mae:0.034823\ttrain-mae:0.027527\n",
      "[47]\teval-mae:0.034615\ttrain-mae:0.027262\n",
      "[48]\teval-mae:0.034461\ttrain-mae:0.027056\n",
      "[49]\teval-mae:0.034409\ttrain-mae:0.026981\n",
      "[50]\teval-mae:0.03431\ttrain-mae:0.026817\n",
      "[51]\teval-mae:0.034277\ttrain-mae:0.02676\n",
      "[52]\teval-mae:0.034115\ttrain-mae:0.026532\n",
      "[53]\teval-mae:0.03406\ttrain-mae:0.026455\n",
      "[54]\teval-mae:0.034039\ttrain-mae:0.026392\n",
      "[55]\teval-mae:0.033882\ttrain-mae:0.026156\n",
      "[56]\teval-mae:0.033713\ttrain-mae:0.02592\n",
      "[57]\teval-mae:0.033654\ttrain-mae:0.025834\n",
      "[58]\teval-mae:0.033527\ttrain-mae:0.025663\n",
      "[59]\teval-mae:0.033414\ttrain-mae:0.025486\n",
      "[60]\teval-mae:0.03326\ttrain-mae:0.025274\n",
      "[61]\teval-mae:0.033169\ttrain-mae:0.025142\n",
      "[62]\teval-mae:0.033074\ttrain-mae:0.025016\n",
      "[63]\teval-mae:0.033054\ttrain-mae:0.024987\n",
      "[64]\teval-mae:0.032973\ttrain-mae:0.024857\n",
      "[65]\teval-mae:0.032867\ttrain-mae:0.024723\n",
      "[66]\teval-mae:0.032706\ttrain-mae:0.024481\n",
      "[67]\teval-mae:0.03265\ttrain-mae:0.024392\n",
      "[68]\teval-mae:0.03258\ttrain-mae:0.024272\n",
      "[69]\teval-mae:0.032446\ttrain-mae:0.024096\n",
      "[70]\teval-mae:0.032398\ttrain-mae:0.024029\n",
      "[71]\teval-mae:0.03234\ttrain-mae:0.023941\n",
      "[72]\teval-mae:0.032271\ttrain-mae:0.023812\n",
      "[73]\teval-mae:0.032165\ttrain-mae:0.023668\n",
      "[74]\teval-mae:0.032138\ttrain-mae:0.023618\n",
      "[75]\teval-mae:0.031992\ttrain-mae:0.023402\n",
      "[76]\teval-mae:0.031887\ttrain-mae:0.023261\n",
      "[77]\teval-mae:0.031772\ttrain-mae:0.023101\n",
      "[78]\teval-mae:0.031721\ttrain-mae:0.023031\n",
      "[79]\teval-mae:0.031564\ttrain-mae:0.022813\n",
      "[80]\teval-mae:0.031532\ttrain-mae:0.02277\n",
      "[81]\teval-mae:0.031512\ttrain-mae:0.022726\n",
      "[82]\teval-mae:0.031401\ttrain-mae:0.022583\n",
      "[83]\teval-mae:0.031266\ttrain-mae:0.022405\n",
      "[84]\teval-mae:0.031199\ttrain-mae:0.0223\n",
      "[85]\teval-mae:0.03109\ttrain-mae:0.022148\n",
      "[86]\teval-mae:0.031014\ttrain-mae:0.022039\n",
      "[87]\teval-mae:0.03095\ttrain-mae:0.021949\n",
      "[88]\teval-mae:0.030888\ttrain-mae:0.021877\n",
      "[89]\teval-mae:0.030821\ttrain-mae:0.021773\n",
      "[90]\teval-mae:0.030703\ttrain-mae:0.02163\n",
      "[91]\teval-mae:0.030599\ttrain-mae:0.021481\n",
      "[92]\teval-mae:0.030518\ttrain-mae:0.021369\n",
      "[93]\teval-mae:0.03044\ttrain-mae:0.021254\n",
      "[94]\teval-mae:0.030402\ttrain-mae:0.021197\n",
      "[95]\teval-mae:0.030366\ttrain-mae:0.021132\n",
      "[96]\teval-mae:0.030202\ttrain-mae:0.020922\n",
      "[97]\teval-mae:0.03012\ttrain-mae:0.020798\n",
      "[98]\teval-mae:0.030036\ttrain-mae:0.020697\n",
      "[99]\teval-mae:0.029932\ttrain-mae:0.020566\n",
      "[100]\teval-mae:0.029891\ttrain-mae:0.020507\n",
      "[101]\teval-mae:0.029842\ttrain-mae:0.020445\n",
      "[102]\teval-mae:0.029818\ttrain-mae:0.020396\n",
      "[103]\teval-mae:0.029759\ttrain-mae:0.020318\n",
      "[104]\teval-mae:0.029734\ttrain-mae:0.020275\n",
      "[105]\teval-mae:0.029577\ttrain-mae:0.02007\n",
      "[106]\teval-mae:0.029548\ttrain-mae:0.020027\n",
      "[107]\teval-mae:0.029485\ttrain-mae:0.019939\n",
      "[108]\teval-mae:0.029432\ttrain-mae:0.019869\n",
      "[109]\teval-mae:0.029325\ttrain-mae:0.01973\n",
      "[110]\teval-mae:0.029288\ttrain-mae:0.019676\n",
      "[111]\teval-mae:0.029197\ttrain-mae:0.019543\n",
      "[112]\teval-mae:0.029158\ttrain-mae:0.019458\n",
      "[113]\teval-mae:0.029085\ttrain-mae:0.019367\n",
      "[114]\teval-mae:0.029058\ttrain-mae:0.019332\n",
      "[115]\teval-mae:0.028995\ttrain-mae:0.01924\n",
      "[116]\teval-mae:0.02895\ttrain-mae:0.019177\n",
      "[117]\teval-mae:0.028914\ttrain-mae:0.019129\n",
      "[118]\teval-mae:0.02882\ttrain-mae:0.019006\n",
      "[119]\teval-mae:0.028784\ttrain-mae:0.018942\n",
      "[120]\teval-mae:0.028692\ttrain-mae:0.018825\n",
      "[121]\teval-mae:0.028584\ttrain-mae:0.018691\n",
      "[122]\teval-mae:0.028504\ttrain-mae:0.018576\n",
      "[123]\teval-mae:0.028455\ttrain-mae:0.018514\n",
      "[124]\teval-mae:0.028374\ttrain-mae:0.018401\n",
      "[125]\teval-mae:0.028301\ttrain-mae:0.018302\n",
      "[126]\teval-mae:0.028277\ttrain-mae:0.01826\n",
      "[127]\teval-mae:0.028176\ttrain-mae:0.01813\n",
      "[128]\teval-mae:0.028154\ttrain-mae:0.01809\n",
      "[129]\teval-mae:0.028054\ttrain-mae:0.017952\n",
      "[130]\teval-mae:0.028035\ttrain-mae:0.017921\n",
      "[131]\teval-mae:0.027975\ttrain-mae:0.017846\n",
      "[132]\teval-mae:0.027933\ttrain-mae:0.017776\n",
      "[133]\teval-mae:0.027865\ttrain-mae:0.01768\n",
      "[134]\teval-mae:0.027842\ttrain-mae:0.017639\n",
      "[135]\teval-mae:0.027772\ttrain-mae:0.017545\n",
      "[136]\teval-mae:0.027674\ttrain-mae:0.017419\n",
      "[137]\teval-mae:0.027639\ttrain-mae:0.017364\n",
      "[138]\teval-mae:0.027602\ttrain-mae:0.017299\n",
      "[139]\teval-mae:0.027548\ttrain-mae:0.017217\n",
      "[140]\teval-mae:0.02746\ttrain-mae:0.017106\n",
      "[141]\teval-mae:0.027399\ttrain-mae:0.017028\n",
      "[142]\teval-mae:0.027346\ttrain-mae:0.016951\n",
      "[143]\teval-mae:0.027313\ttrain-mae:0.016888\n",
      "[144]\teval-mae:0.027293\ttrain-mae:0.016856\n",
      "[145]\teval-mae:0.027258\ttrain-mae:0.016814\n",
      "[146]\teval-mae:0.02724\ttrain-mae:0.016768\n",
      "[147]\teval-mae:0.027187\ttrain-mae:0.016706\n",
      "[148]\teval-mae:0.027169\ttrain-mae:0.016668\n",
      "[149]\teval-mae:0.027161\ttrain-mae:0.016656\n",
      "[150]\teval-mae:0.027129\ttrain-mae:0.016605\n",
      "[151]\teval-mae:0.027035\ttrain-mae:0.01648\n",
      "[152]\teval-mae:0.026932\ttrain-mae:0.01634\n",
      "[153]\teval-mae:0.0269\ttrain-mae:0.016299\n",
      "[154]\teval-mae:0.02683\ttrain-mae:0.016204\n",
      "[155]\teval-mae:0.026729\ttrain-mae:0.016082\n",
      "[156]\teval-mae:0.026695\ttrain-mae:0.016036\n",
      "[157]\teval-mae:0.026671\ttrain-mae:0.016005\n",
      "[158]\teval-mae:0.026611\ttrain-mae:0.015935\n",
      "[159]\teval-mae:0.026557\ttrain-mae:0.015855\n",
      "[160]\teval-mae:0.026519\ttrain-mae:0.0158\n",
      "[161]\teval-mae:0.026475\ttrain-mae:0.01574\n",
      "[162]\teval-mae:0.026394\ttrain-mae:0.015632\n",
      "[163]\teval-mae:0.026361\ttrain-mae:0.015584\n",
      "[164]\teval-mae:0.026328\ttrain-mae:0.015541\n",
      "[165]\teval-mae:0.026313\ttrain-mae:0.015515\n",
      "[166]\teval-mae:0.026262\ttrain-mae:0.015445\n",
      "[167]\teval-mae:0.026251\ttrain-mae:0.015427\n",
      "[168]\teval-mae:0.026192\ttrain-mae:0.015346\n",
      "[169]\teval-mae:0.026147\ttrain-mae:0.015282\n",
      "[170]\teval-mae:0.026135\ttrain-mae:0.015254\n",
      "[171]\teval-mae:0.026073\ttrain-mae:0.01515\n",
      "[172]\teval-mae:0.026042\ttrain-mae:0.015108\n",
      "[173]\teval-mae:0.026002\ttrain-mae:0.015058\n",
      "[174]\teval-mae:0.025919\ttrain-mae:0.014938\n",
      "[175]\teval-mae:0.025872\ttrain-mae:0.014873\n",
      "[176]\teval-mae:0.02585\ttrain-mae:0.014845\n",
      "[177]\teval-mae:0.025834\ttrain-mae:0.014817\n",
      "[178]\teval-mae:0.025799\ttrain-mae:0.014756\n",
      "[179]\teval-mae:0.025787\ttrain-mae:0.014737\n",
      "[180]\teval-mae:0.025756\ttrain-mae:0.014695\n",
      "[181]\teval-mae:0.025741\ttrain-mae:0.014677\n",
      "[182]\teval-mae:0.025697\ttrain-mae:0.014617\n",
      "[183]\teval-mae:0.025668\ttrain-mae:0.014575\n",
      "[184]\teval-mae:0.025622\ttrain-mae:0.014518\n",
      "[185]\teval-mae:0.025579\ttrain-mae:0.014447\n",
      "[186]\teval-mae:0.025535\ttrain-mae:0.014376\n",
      "[187]\teval-mae:0.025516\ttrain-mae:0.014352\n",
      "[188]\teval-mae:0.025456\ttrain-mae:0.014273\n",
      "[189]\teval-mae:0.025423\ttrain-mae:0.014225\n",
      "[190]\teval-mae:0.025382\ttrain-mae:0.014174\n"
     ]
    },
    {
     "name": "stdout",
     "output_type": "stream",
     "text": [
      "[191]\teval-mae:0.02532\ttrain-mae:0.014098\n",
      "[192]\teval-mae:0.025275\ttrain-mae:0.014042\n",
      "[193]\teval-mae:0.025258\ttrain-mae:0.014014\n",
      "[194]\teval-mae:0.025253\ttrain-mae:0.014007\n",
      "[195]\teval-mae:0.025203\ttrain-mae:0.013939\n",
      "[196]\teval-mae:0.025154\ttrain-mae:0.013872\n",
      "[197]\teval-mae:0.025091\ttrain-mae:0.013796\n",
      "[198]\teval-mae:0.025024\ttrain-mae:0.01372\n",
      "[199]\teval-mae:0.024985\ttrain-mae:0.013673\n",
      "Plot feature importances...\n"
     ]
    },
    {
     "data": {
      "image/png": "[encoded data removed]",
      "text/plain": [
       "<Figure size 432x288 with 1 Axes>"
      ]
     },
     "metadata": {},
     "output_type": "display_data"
    }
   ],
   "source": [
    "fit_model = xgb.train( params, dtrain , num_boost_round = 200, evals=   evallist , early_stopping_rounds= 10 )\n",
    "print('Plot feature importances...')\n",
    "ax = xgb.plot_importance(fit_model)\n",
    "plt.show()"
   ]
  },
  {
   "cell_type": "code",
   "execution_count": null,
   "metadata": {},
   "outputs": [],
   "source": [
    "gridsearch_params = [\n",
    "    (max_depth, min_child_weight)\n",
    "    for max_depth in range(9,12)\n",
    "    for min_child_weight in range(5,8)\n",
    "]"
   ]
  },
  {
   "cell_type": "code",
   "execution_count": null,
   "metadata": {},
   "outputs": [],
   "source": [
    "best_params = None\n",
    "num_boost_round = 999\n",
    "params = {}\n",
    "for max_depth, min_child_weight in gridsearch_params:\n",
    "    print(\"CV with max_depth={}, min_child_weight={}\".format(\n",
    "                             max_depth,\n",
    "                             min_child_weight))\n",
    "    # Update our parameters\n",
    "    params['max_depth'] = max_depth\n",
    "    params['min_child_weight'] = min_child_weight\n",
    "    # Run CV\n",
    "    cv_results = xgb.cv(\n",
    "        params,\n",
    "        dtrain,\n",
    "        num_boost_round=num_boost_round,\n",
    "        seed=42,\n",
    "        nfold=2,\n",
    "        metrics={'mae'},\n",
    "        early_stopping_rounds=10\n",
    "    )"
   ]
  },
  {
   "cell_type": "code",
   "execution_count": 26,
   "metadata": {},
   "outputs": [],
   "source": [
    "df_test = test.drop(['Id', 'groupId', 'matchId'  , 'matchType'], axis = 1)"
   ]
  },
  {
   "cell_type": "markdown",
   "metadata": {},
   "source": [
    "model = xgb.XGBClassifier(objective = 'reg:logistic')\n",
    "param_dist = {\"max_depth\": [10,30,50],\n",
    "              \"min_child_weight\" : [1,3,6],\n",
    "              \"n_estimators\": [200],\n",
    "              \"learning_rate\": [0.05, 0.1,0.16]}\n",
    "grid_search = RandomizedSearchCV(model , param_distributions= param_dist, cv = 2)"
   ]
  },
  {
   "cell_type": "markdown",
   "metadata": {
    "collapsed": true
   },
   "source": [
    "grid_search.fit(X_train, y_train)"
   ]
  },
  {
   "cell_type": "code",
   "execution_count": 27,
   "metadata": {},
   "outputs": [],
   "source": [
    "X_test = df_test[train_columns]"
   ]
  },
  {
   "cell_type": "code",
   "execution_count": 30,
   "metadata": {},
   "outputs": [],
   "source": [
    "dtest_X = xgb.DMatrix(X_test)"
   ]
  },
  {
   "cell_type": "code",
   "execution_count": 31,
   "metadata": {},
   "outputs": [],
   "source": [
    "output_win = fit_model.predict(dtest_X)"
   ]
  },
  {
   "cell_type": "code",
   "execution_count": 32,
   "metadata": {},
   "outputs": [],
   "source": [
    "output_df = pd.DataFrame( output_win)"
   ]
  },
  {
   "cell_type": "code",
   "execution_count": 33,
   "metadata": {},
   "outputs": [],
   "source": [
    "sampleID = sample['Id']"
   ]
  },
  {
   "cell_type": "code",
   "execution_count": 34,
   "metadata": {},
   "outputs": [],
   "source": [
    "t = pd.concat([sampleID , output_df] , axis = 1)"
   ]
  },
  {
   "cell_type": "code",
   "execution_count": 35,
   "metadata": {},
   "outputs": [],
   "source": [
    "t.columns = ['Id' , 'winPLacePerc']"
   ]
  },
  {
   "cell_type": "code",
   "execution_count": 36,
   "metadata": {},
   "outputs": [],
   "source": [
    "t.to_csv('Submission_12.csv' , index = False)"
   ]
  },
  {
   "cell_type": "markdown",
   "metadata": {},
   "source": [
    "## RANDOM FOREST"
   ]
  },
  {
   "cell_type": "code",
   "execution_count": 42,
   "metadata": {},
   "outputs": [],
   "source": [
    "from sklearn.model_selection import RandomizedSearchCV\n",
    "from sklearn.ensemble import RandomForestRegressor"
   ]
  },
  {
   "cell_type": "code",
   "execution_count": 46,
   "metadata": {},
   "outputs": [],
   "source": [
    "train_rf = train\n",
    "test_rf = test"
   ]
  },
  {
   "cell_type": "code",
   "execution_count": 47,
   "metadata": {},
   "outputs": [
    {
     "data": {
      "text/plain": [
       "Index(['Id', 'groupId', 'matchId', 'assists', 'boosts', 'damageDealt', 'DBNOs',\n",
       "       'headshotKills', 'heals', 'killPlace', 'killPoints', 'kills',\n",
       "       'killStreaks', 'longestKill', 'matchDuration', 'matchType', 'maxPlace',\n",
       "       'numGroups', 'rankPoints', 'revives', 'rideDistance', 'roadKills',\n",
       "       'swimDistance', 'teamKills', 'vehicleDestroys', 'walkDistance',\n",
       "       'weaponsAcquired', 'winPoints', 'winPlacePerc', 'assists_mean',\n",
       "       'boosts_mean', 'damageDealt_mean', 'DBNOs_mean', 'headshotKills_mean',\n",
       "       'heals_mean', 'killPlace_mean', 'killPoints_mean', 'kills_mean',\n",
       "       'killStreaks_mean', 'longestKill_mean', 'matchDuration_mean',\n",
       "       'maxPlace_mean', 'numGroups_mean', 'rankPoints_mean', 'revives_mean',\n",
       "       'rideDistance_mean', 'roadKills_mean', 'swimDistance_mean',\n",
       "       'teamKills_mean', 'vehicleDestroys_mean', 'walkDistance_mean',\n",
       "       'weaponsAcquired_mean', 'winPoints_mean', 'winPlacePerc_mean',\n",
       "       'assists_match_mean', 'boosts_match_mean', 'damageDealt_match_mean',\n",
       "       'DBNOs_match_mean', 'headshotKills_match_mean', 'heals_match_mean',\n",
       "       'killPlace_match_mean', 'killPoints_match_mean', 'kills_match_mean',\n",
       "       'killStreaks_match_mean', 'longestKill_match_mean',\n",
       "       'matchDuration_match_mean', 'maxPlace_match_mean',\n",
       "       'numGroups_match_mean', 'rankPoints_match_mean', 'revives_match_mean',\n",
       "       'rideDistance_match_mean', 'roadKills_match_mean',\n",
       "       'swimDistance_match_mean', 'teamKills_match_mean',\n",
       "       'vehicleDestroys_match_mean', 'walkDistance_match_mean',\n",
       "       'weaponsAcquired_match_mean', 'winPoints_match_mean',\n",
       "       'winPlacePerc_match_mean', 'group_size'],\n",
       "      dtype='object')"
      ]
     },
     "execution_count": 47,
     "metadata": {},
     "output_type": "execute_result"
    }
   ],
   "source": [
    "train_rf.columns"
   ]
  },
  {
   "cell_type": "code",
   "execution_count": 48,
   "metadata": {},
   "outputs": [],
   "source": [
    "X_train_rf = train[train_columns]\n",
    "X_test_rf = test[train_columns]"
   ]
  },
  {
   "cell_type": "code",
   "execution_count": 49,
   "metadata": {},
   "outputs": [],
   "source": [
    "X = X_train_rf\n",
    "y = train_rf.winPlacePerc"
   ]
  },
  {
   "cell_type": "code",
   "execution_count": 50,
   "metadata": {},
   "outputs": [],
   "source": [
    "X_train_rf, X_valid_rf, y_train_rf, y_valid_rf = train_test_split(X, y, test_size=0.33, random_state=42)"
   ]
  },
  {
   "cell_type": "code",
   "execution_count": 51,
   "metadata": {},
   "outputs": [],
   "source": [
    "clf = RandomForestRegressor(max_depth=10, random_state=9  , n_estimators=200 )"
   ]
  },
  {
   "cell_type": "code",
   "execution_count": 52,
   "metadata": {},
   "outputs": [
    {
     "data": {
      "text/plain": [
       "RandomForestRegressor(bootstrap=True, criterion='mse', max_depth=10,\n",
       "           max_features='auto', max_leaf_nodes=None,\n",
       "           min_impurity_decrease=0.0, min_impurity_split=None,\n",
       "           min_samples_leaf=1, min_samples_split=2,\n",
       "           min_weight_fraction_leaf=0.0, n_estimators=200, n_jobs=1,\n",
       "           oob_score=False, random_state=9, verbose=0, warm_start=False)"
      ]
     },
     "execution_count": 52,
     "metadata": {},
     "output_type": "execute_result"
    }
   ],
   "source": [
    "clf.fit(X_train_rf, y_train_rf)"
   ]
  },
  {
   "cell_type": "code",
   "execution_count": 54,
   "metadata": {},
   "outputs": [],
   "source": [
    "y_pred = clf.predict(X_valid_rf)"
   ]
  },
  {
   "cell_type": "code",
   "execution_count": 55,
   "metadata": {},
   "outputs": [
    {
     "data": {
      "text/plain": [
       "array([ 0.45294952,  0.87165249,  0.85311666, ...,  0.70021675,\n",
       "        0.40392368,  0.8212693 ])"
      ]
     },
     "execution_count": 55,
     "metadata": {},
     "output_type": "execute_result"
    }
   ],
   "source": [
    "y_pred"
   ]
  },
  {
   "cell_type": "code",
   "execution_count": 56,
   "metadata": {
    "collapsed": true
   },
   "outputs": [
    {
     "data": {
      "text/plain": [
       "4270779    0.2800\n",
       "1687951    0.8571\n",
       "3732582    0.7812\n",
       "3386216    0.1379\n",
       "243580     0.7263\n",
       "2919652    0.1923\n",
       "1834239    0.9091\n",
       "1830481    0.0000\n",
       "575185     0.0833\n",
       "4397206    0.1364\n",
       "1620825    0.3214\n",
       "1592232    0.3793\n",
       "588134     0.5200\n",
       "3460725    0.0889\n",
       "1674480    0.5510\n",
       "729485     0.2759\n",
       "88735      0.8571\n",
       "2645472    0.8148\n",
       "3410202    0.6809\n",
       "3718448    0.4375\n",
       "1946380    0.4167\n",
       "459798     0.6296\n",
       "2639513    0.8936\n",
       "3019732    0.9247\n",
       "4214802    0.0690\n",
       "2119946    0.3804\n",
       "1809526    0.5957\n",
       "3037393    0.6531\n",
       "1603051    0.7778\n",
       "221        0.5385\n",
       "            ...  \n",
       "397290     0.1327\n",
       "3300568    0.7308\n",
       "720004     0.5357\n",
       "377192     0.1923\n",
       "2542478    0.0000\n",
       "1084       0.1724\n",
       "2116125    0.3333\n",
       "1778613    0.4231\n",
       "2864416    0.8980\n",
       "1810798    0.8846\n",
       "182367     0.3011\n",
       "3675359    0.9783\n",
       "704999     0.6522\n",
       "3692114    0.0000\n",
       "2586343    0.9375\n",
       "3964642    0.9388\n",
       "1681946    0.0227\n",
       "1230106    1.0000\n",
       "2397000    0.9583\n",
       "405038     1.0000\n",
       "791533     0.4124\n",
       "3453559    0.9231\n",
       "1105696    0.5000\n",
       "1301696    0.7308\n",
       "1655968    0.3111\n",
       "808125     0.2604\n",
       "1963454    0.8800\n",
       "2897393    0.8214\n",
       "2524175    0.4681\n",
       "1786590    0.7849\n",
       "Name: winPlacePerc, Length: 1467499, dtype: float64"
      ]
     },
     "execution_count": 56,
     "metadata": {},
     "output_type": "execute_result"
    }
   ],
   "source": [
    "y_valid_rf"
   ]
  },
  {
   "cell_type": "code",
   "execution_count": 58,
   "metadata": {},
   "outputs": [],
   "source": [
    "output_win_rf = clf.predict(X_test_rf)"
   ]
  },
  {
   "cell_type": "code",
   "execution_count": 59,
   "metadata": {},
   "outputs": [],
   "source": [
    "output_df_rf = pd.DataFrame( output_win_rf)"
   ]
  },
  {
   "cell_type": "code",
   "execution_count": 61,
   "metadata": {},
   "outputs": [],
   "source": [
    "t_rf = pd.concat([sampleID , output_df_rf] , axis = 1)"
   ]
  },
  {
   "cell_type": "code",
   "execution_count": 62,
   "metadata": {},
   "outputs": [],
   "source": [
    "t_rf.columns = ['Id' , 'winPLacePerc']"
   ]
  },
  {
   "cell_type": "code",
   "execution_count": 63,
   "metadata": {},
   "outputs": [],
   "source": [
    "t_rf.to_csv('Submission_rf.csv' , index = False)"
   ]
  },
  {
   "cell_type": "markdown",
   "metadata": {},
   "source": [
    "## Random Forest Search CV"
   ]
  },
  {
   "cell_type": "code",
   "execution_count": 66,
   "metadata": {},
   "outputs": [
    {
     "name": "stdout",
     "output_type": "stream",
     "text": [
      "{'n_estimators': [200, 400, 600, 800, 1000, 1200, 1400, 1600, 1800, 2000], 'max_features': ['auto', 'sqrt'], 'max_depth': [10, 20, 30, 40, 50, 60, 70, 80, 90, 100, 110, None], 'min_samples_split': [2, 5, 10], 'min_samples_leaf': [1, 2, 4], 'bootstrap': [True, False]}\n"
     ]
    },
    {
     "data": {
      "text/plain": [
       "{'bootstrap': [True, False],\n",
       " 'max_depth': [10, 20, 30, 40, 50, 60, 70, 80, 90, 100, None],\n",
       " 'max_features': ['auto', 'sqrt'],\n",
       " 'min_samples_leaf': [1, 2, 4],\n",
       " 'min_samples_split': [2, 5, 10],\n",
       " 'n_estimators': [200, 400, 600, 800, 1000, 1200, 1400, 1600, 1800, 2000]}"
      ]
     },
     "execution_count": 66,
     "metadata": {},
     "output_type": "execute_result"
    }
   ],
   "source": [
    "# Number of trees in random forest\n",
    "n_estimators = [int(x) for x in np.linspace(start = 200, stop = 2000, num = 10)]\n",
    "# Number of features to consider at every split\n",
    "max_features = ['auto', 'sqrt']\n",
    "# Maximum number of levels in tree\n",
    "max_depth = [int(x) for x in np.linspace(10, 110, num = 11)]\n",
    "max_depth.append(None)\n",
    "# Minimum number of samples required to split a node\n",
    "min_samples_split = [2, 5, 10]\n",
    "# Minimum number of samples required at each leaf node\n",
    "min_samples_leaf = [1, 2, 4]\n",
    "# Method of selecting samples for training each tree\n",
    "bootstrap = [True, False]\n",
    "# Create the random grid\n",
    "random_grid = {'n_estimators': n_estimators,\n",
    "               'max_features': max_features,\n",
    "               'max_depth': max_depth,\n",
    "               'min_samples_split': min_samples_split,\n",
    "               'min_samples_leaf': min_samples_leaf,\n",
    "               'bootstrap': bootstrap}\n",
    "print(random_grid)\n",
    "{'bootstrap': [True, False],\n",
    " 'max_depth': [10, 20, 30, 40, 50, 60, 70, 80, 90, 100, None],\n",
    " 'max_features': ['auto', 'sqrt'],\n",
    " 'min_samples_leaf': [1, 2, 4],\n",
    " 'min_samples_split': [2, 5, 10],\n",
    " 'n_estimators': [200, 400, 600, 800, 1000, 1200, 1400, 1600, 1800, 2000]}"
   ]
  },
  {
   "cell_type": "code",
   "execution_count": 69,
   "metadata": {},
   "outputs": [],
   "source": [
    "rf = RandomForestRegressor()\n",
    "rf_random1 = RandomizedSearchCV(estimator = rf, param_distributions = random_grid, n_iter = 10, cv = 2, verbose=2, random_state=42, n_jobs = -1)"
   ]
  },
  {
   "cell_type": "code",
   "execution_count": null,
   "metadata": {},
   "outputs": [
    {
     "name": "stdout",
     "output_type": "stream",
     "text": [
      "Fitting 2 folds for each of 10 candidates, totalling 20 fits\n"
     ]
    }
   ],
   "source": [
    "rf_random1.fit(X_train_rf, y_train_rf)"
   ]
  }
 ],
 "metadata": {
  "kernelspec": {
   "display_name": "Python 3",
   "language": "python",
   "name": "python3"
  },
  "language_info": {
   "codemirror_mode": {
    "name": "ipython",
    "version": 3
   },
   "file_extension": ".py",
   "mimetype": "text/x-python",
   "name": "python",
   "nbconvert_exporter": "python",
   "pygments_lexer": "ipython3",
   "version": "3.6.6"
  }
 },
 "nbformat": 4,
 "nbformat_minor": 2
}
