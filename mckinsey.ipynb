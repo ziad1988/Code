{
 "cells": [
  {
   "cell_type": "code",
   "execution_count": 59,
   "metadata": {},
   "outputs": [],
   "source": [
    "import warnings\n",
    "warnings.filterwarnings('ignore')"
   ]
  },
  {
   "cell_type": "code",
   "execution_count": 60,
   "metadata": {},
   "outputs": [],
   "source": [
    "import numpy as np\n",
    "import pandas as pd\n",
    "import re, random, time\n",
    "from sklearn.metrics import roc_auc_score\n",
    "import lightgbm as lgb\n",
    "from sklearn.model_selection import KFold\n",
    "import matplotlib.pyplot as plt\n",
    "%matplotlib inline\n",
    "pd.options.display.max_colwidth = 1000"
   ]
  },
  {
   "cell_type": "code",
   "execution_count": 61,
   "metadata": {},
   "outputs": [
    {
     "name": "stdout",
     "output_type": "stream",
     "text": [
      "(34224, 13) (79853, 14) (114077, 14)\n"
     ]
    },
    {
     "data": {
      "text/html": [
       "<div>\n",
       "<style scoped>\n",
       "    .dataframe tbody tr th:only-of-type {\n",
       "        vertical-align: middle;\n",
       "    }\n",
       "\n",
       "    .dataframe tbody tr th {\n",
       "        vertical-align: top;\n",
       "    }\n",
       "\n",
       "    .dataframe thead th {\n",
       "        text-align: right;\n",
       "    }\n",
       "</style>\n",
       "<table border=\"1\" class=\"dataframe\">\n",
       "  <thead>\n",
       "    <tr style=\"text-align: right;\">\n",
       "      <th></th>\n",
       "      <th>Count_3-6_months_late</th>\n",
       "      <th>Count_6-12_months_late</th>\n",
       "      <th>Count_more_than_12_months_late</th>\n",
       "      <th>Income</th>\n",
       "      <th>age_in_days</th>\n",
       "      <th>application_underwriting_score</th>\n",
       "      <th>id</th>\n",
       "      <th>no_of_premiums_paid</th>\n",
       "      <th>perc_premium_paid_by_cash_credit</th>\n",
       "      <th>premium</th>\n",
       "      <th>renewal</th>\n",
       "      <th>residence_area_type</th>\n",
       "      <th>train</th>\n",
       "      <th>sourcing_channel_A</th>\n",
       "      <th>sourcing_channel_B</th>\n",
       "      <th>sourcing_channel_C</th>\n",
       "      <th>sourcing_channel_D</th>\n",
       "      <th>sourcing_channel_E</th>\n",
       "    </tr>\n",
       "  </thead>\n",
       "  <tbody>\n",
       "    <tr>\n",
       "      <th>0</th>\n",
       "      <td>0.0</td>\n",
       "      <td>0.0</td>\n",
       "      <td>0.0</td>\n",
       "      <td>355060</td>\n",
       "      <td>12058</td>\n",
       "      <td>99.02</td>\n",
       "      <td>110936</td>\n",
       "      <td>13</td>\n",
       "      <td>0.429</td>\n",
       "      <td>3300</td>\n",
       "      <td>1.0</td>\n",
       "      <td>0</td>\n",
       "      <td>1</td>\n",
       "      <td>0</td>\n",
       "      <td>0</td>\n",
       "      <td>1</td>\n",
       "      <td>0</td>\n",
       "      <td>0</td>\n",
       "    </tr>\n",
       "    <tr>\n",
       "      <th>1</th>\n",
       "      <td>0.0</td>\n",
       "      <td>0.0</td>\n",
       "      <td>0.0</td>\n",
       "      <td>315150</td>\n",
       "      <td>21546</td>\n",
       "      <td>99.89</td>\n",
       "      <td>41492</td>\n",
       "      <td>21</td>\n",
       "      <td>0.010</td>\n",
       "      <td>18000</td>\n",
       "      <td>1.0</td>\n",
       "      <td>0</td>\n",
       "      <td>1</td>\n",
       "      <td>1</td>\n",
       "      <td>0</td>\n",
       "      <td>0</td>\n",
       "      <td>0</td>\n",
       "      <td>0</td>\n",
       "    </tr>\n",
       "  </tbody>\n",
       "</table>\n",
       "</div>"
      ],
      "text/plain": [
       "   Count_3-6_months_late  Count_6-12_months_late  \\\n",
       "0                    0.0                     0.0   \n",
       "1                    0.0                     0.0   \n",
       "\n",
       "   Count_more_than_12_months_late  Income  age_in_days  \\\n",
       "0                             0.0  355060        12058   \n",
       "1                             0.0  315150        21546   \n",
       "\n",
       "   application_underwriting_score      id  no_of_premiums_paid  \\\n",
       "0                           99.02  110936                   13   \n",
       "1                           99.89   41492                   21   \n",
       "\n",
       "   perc_premium_paid_by_cash_credit  premium  renewal  residence_area_type  \\\n",
       "0                             0.429     3300      1.0                    0   \n",
       "1                             0.010    18000      1.0                    0   \n",
       "\n",
       "   train  sourcing_channel_A  sourcing_channel_B  sourcing_channel_C  \\\n",
       "0      1                   0                   0                   1   \n",
       "1      1                   1                   0                   0   \n",
       "\n",
       "   sourcing_channel_D  sourcing_channel_E  \n",
       "0                   0                   0  \n",
       "1                   0                   0  "
      ]
     },
     "execution_count": 61,
     "metadata": {},
     "output_type": "execute_result"
    }
   ],
   "source": [
    "df_train = pd.read_csv('train.csv', encoding=\"ISO-8859-1\")\n",
    "df_train['train'] = 1\n",
    "df_test = pd.read_csv('test.csv', encoding=\"ISO-8859-1\")\n",
    "df_test['train'] = 0\n",
    "df_all = df_train.append(df_test)\n",
    "print(df_test.shape, df_train.shape, df_all.shape)\n",
    "\n",
    "OHE_columns = [x for x in df_all.columns if x == 'sourcing_channel']\n",
    "df_all = pd.get_dummies(df_all, columns= OHE_columns)\n",
    "df_all.residence_area_type = pd.factorize(df_all.residence_area_type)[0]\n",
    "# df_all.drop('sourcing_channel', axis = 1, inplace = True)\n",
    "# df_all.sourcing_channel = pd.factorize(df_all.sourcing_channel)[0]\n",
    "df_all.head(2)"
   ]
  },
  {
   "cell_type": "markdown",
   "metadata": {},
   "source": [
    "## feature engineering"
   ]
  },
  {
   "cell_type": "code",
   "execution_count": 63,
   "metadata": {},
   "outputs": [
    {
     "name": "stdout",
     "output_type": "stream",
     "text": [
      "(34224, 19) (79853, 19) (114077, 19)\n"
     ]
    }
   ],
   "source": [
    "# df_all['premium_income'] = df_all.premium.divide(df_all.Income)\n",
    "df_all['amount_paid'] = df_all.no_of_premiums_paid * df_all.premium\n",
    "df_train = df_all[df_all.train == 1]\n",
    "df_train.reset_index(drop = True, inplace=True)\n",
    "df_test = df_all[df_all.train == 0].reset_index(drop = True)\n",
    "df_test.reset_index(drop = True, inplace=True)\n",
    "print(df_test.shape, df_train.shape, df_all.shape)"
   ]
  },
  {
   "cell_type": "markdown",
   "metadata": {},
   "source": [
    "## LGB"
   ]
  },
  {
   "cell_type": "code",
   "execution_count": 65,
   "metadata": {},
   "outputs": [
    {
     "name": "stdout",
     "output_type": "stream",
     "text": [
      "(63882, 16) (63882,) (34224, 16) (15971, 16) 210255.552425\n"
     ]
    }
   ],
   "source": [
    "np.random.seed(1)\n",
    "train_rows = np.random.choice(df_train.index, int(len(df_train)* 0.8), replace=False)\n",
    "valid_rows = [x for x in df_train.index if x not in train_rows]\n",
    "df_train1 = df_train.loc[train_rows]\n",
    "df_valid1 = df_train.loc[valid_rows]\n",
    "\n",
    "train_X = df_train1.drop(['id', 'train', 'renewal'], axis = 1)\n",
    "train_Y = df_train1.renewal\n",
    "valid_X = df_valid1.drop(['id', 'train', 'renewal'], axis = 1)\n",
    "valid_Y = df_valid1.renewal\n",
    "test_X = df_test.drop(['id', 'train', 'renewal'], axis = 1)\n",
    "print(train_X.shape, train_Y.shape, test_X.shape, valid_X.shape, train_X.Income.mean())"
   ]
  },
  {
   "cell_type": "code",
   "execution_count": 66,
   "metadata": {},
   "outputs": [
    {
     "name": "stdout",
     "output_type": "stream",
     "text": [
      "Training until validation scores don't improve for 200 rounds.\n",
      "[20]\tvalid_0's auc: 0.846853\n",
      "[40]\tvalid_0's auc: 0.847754\n",
      "[60]\tvalid_0's auc: 0.848459\n",
      "[80]\tvalid_0's auc: 0.848924\n",
      "[100]\tvalid_0's auc: 0.848982\n",
      "[120]\tvalid_0's auc: 0.84918\n",
      "[140]\tvalid_0's auc: 0.848946\n",
      "[160]\tvalid_0's auc: 0.849161\n",
      "[180]\tvalid_0's auc: 0.849429\n",
      "[200]\tvalid_0's auc: 0.849768\n",
      "[220]\tvalid_0's auc: 0.849729\n",
      "[240]\tvalid_0's auc: 0.849856\n",
      "[260]\tvalid_0's auc: 0.849966\n",
      "[280]\tvalid_0's auc: 0.849864\n",
      "[300]\tvalid_0's auc: 0.849741\n",
      "[320]\tvalid_0's auc: 0.84966\n",
      "[340]\tvalid_0's auc: 0.849336\n",
      "[360]\tvalid_0's auc: 0.848934\n",
      "[380]\tvalid_0's auc: 0.84862\n",
      "[400]\tvalid_0's auc: 0.848447\n",
      "[420]\tvalid_0's auc: 0.848196\n",
      "[440]\tvalid_0's auc: 0.848094\n",
      "Early stopping, best iteration is:\n",
      "[248]\tvalid_0's auc: 0.84997\n",
      "Plot feature importances...\n"
     ]
    },
    {
     "data": {
      "image/png": "[encoded data removed]",
      "text/plain": [
       "<matplotlib.figure.Figure at 0x1a193d8518>"
      ]
     },
     "metadata": {},
     "output_type": "display_data"
    }
   ],
   "source": [
    "params = {\n",
    "    'learning_rate': 0.02, \n",
    "    'boosting': 'gbdt', \n",
    "    'objective': 'binary', \n",
    "    'metric': 'auc', \n",
    "    'is_training_metric': False, \n",
    "    'scale_pos_weight': 0.5,\n",
    "    'max_depth': 8,  \n",
    "    'min_child_samples': 100,  \n",
    "    'max_bin': 100,  \n",
    "    'subsample': 0.7,  \n",
    "    'subsample_freq': 1,  \n",
    "    'colsample_bytree': 0.7,\n",
    "    'seed': 0\n",
    "}\n",
    "\n",
    "fit_model = lgb.train( params, train_set= lgb.Dataset(train_X, label=train_Y.values), num_boost_round= 2000,\n",
    "            valid_sets = lgb.Dataset(valid_X, label=valid_Y.values), verbose_eval = 20, early_stopping_rounds = 200)\n",
    "\n",
    "valid_pred = fit_model.predict(valid_X, num_iteration=fit_model.best_iteration)\n",
    "train_pred = fit_model.predict(train_X, num_iteration=fit_model.best_iteration)\n",
    "test_pred = fit_model.predict(test_X, num_iteration=fit_model.best_iteration)\n",
    "\n",
    "print('Plot feature importances...')\n",
    "ax = lgb.plot_importance(fit_model, max_num_features=20)\n",
    "plt.show()"
   ]
  },
  {
   "cell_type": "code",
   "execution_count": 68,
   "metadata": {},
   "outputs": [
    {
     "data": {
      "text/html": [
       "<div>\n",
       "<style scoped>\n",
       "    .dataframe tbody tr th:only-of-type {\n",
       "        vertical-align: middle;\n",
       "    }\n",
       "\n",
       "    .dataframe tbody tr th {\n",
       "        vertical-align: top;\n",
       "    }\n",
       "\n",
       "    .dataframe thead th {\n",
       "        text-align: right;\n",
       "    }\n",
       "</style>\n",
       "<table border=\"1\" class=\"dataframe\">\n",
       "  <thead>\n",
       "    <tr style=\"text-align: right;\">\n",
       "      <th></th>\n",
       "      <th>id</th>\n",
       "      <th>premium</th>\n",
       "      <th>renewal</th>\n",
       "    </tr>\n",
       "  </thead>\n",
       "  <tbody>\n",
       "    <tr>\n",
       "      <th>0</th>\n",
       "      <td>649</td>\n",
       "      <td>3300</td>\n",
       "      <td>0.979379</td>\n",
       "    </tr>\n",
       "    <tr>\n",
       "      <th>1</th>\n",
       "      <td>81136</td>\n",
       "      <td>11700</td>\n",
       "      <td>0.967940</td>\n",
       "    </tr>\n",
       "  </tbody>\n",
       "</table>\n",
       "</div>"
      ],
      "text/plain": [
       "      id  premium   renewal\n",
       "0    649     3300  0.979379\n",
       "1  81136    11700  0.967940"
      ]
     },
     "execution_count": 68,
     "metadata": {},
     "output_type": "execute_result"
    }
   ],
   "source": [
    "submission = df_test[['id', 'premium']]\n",
    "submission['renewal'] = test_pred\n",
    "submission.head(2)"
   ]
  },
  {
   "cell_type": "markdown",
   "metadata": {},
   "source": [
    "## Incentive calculation"
   ]
  },
  {
   "cell_type": "code",
   "execution_count": 70,
   "metadata": {},
   "outputs": [
    {
     "data": {
      "text/plain": [
       "'\\nEquation for the effort-incentives curve: effort = 10*(1-exp(-incentive/400))\\nEquation for the % improvement in renewal prob vs effort curve: improvement = 20*(1-exp(-effort/5))\\nfrom above equations :\\n            %improvement = 20 (1 - exp(-2 (1 - exp(-incentive/400))))\\n\\nRevenue (R) = [ pbenchmark + (0.20 (1 - exp(-2 (1 - exp(-incentive/400))))) * pbenchmark ] * premium -  incentive\\nRevenue (R) will maximize when dR/di is zero where i is incentive\\nsince d/dx [ 0.20 (1 - exp(-2 (1 - exp(-x/400)))) ] = 1/1000 e^(-x/400 + 2 e^(-x/400) - 2)\\n\\nso dR/di = (premium * pbenchmark) * 1/1000 e^[-i/400 + 2 e^(-i/400) - 2] - 1 \\nsolve following equation to get optimal incentive value\\n        (premium * pbenchmark) * 1/1000 e^[-i/400 + 2 e^(-i/400) - 2] - 1 = 0\\n        i.e -i/400 + 2 e^(-i/400) -2 - log (1000 /(premium * pbenchmark) = 0\\n'"
      ]
     },
     "execution_count": 70,
     "metadata": {},
     "output_type": "execute_result"
    }
   ],
   "source": [
    "'''\n",
    "Equation for the effort-incentives curve: effort = 10*(1-exp(-incentive/400))\n",
    "Equation for the % improvement in renewal prob vs effort curve: improvement = 20*(1-exp(-effort/5))\n",
    "from above equations :\n",
    "            %improvement = 20 (1 - exp(-2 (1 - exp(-incentive/400))))\n",
    "\n",
    "Revenue (R) = [ pbenchmark + (0.20 (1 - exp(-2 (1 - exp(-incentive/400))))) * pbenchmark ] * premium -  incentive\n",
    "Revenue (R) will maximize when dR/di is zero where i is incentive\n",
    "since d/dx [ 0.20 (1 - exp(-2 (1 - exp(-x/400)))) ] = 1/1000 e^(-x/400 + 2 e^(-x/400) - 2)\n",
    "\n",
    "so dR/di = (premium * pbenchmark) * 1/1000 e^[-i/400 + 2 e^(-i/400) - 2] - 1 \n",
    "solve following equation to get optimal incentive value\n",
    "        (premium * pbenchmark) * 1/1000 e^[-i/400 + 2 e^(-i/400) - 2] - 1 = 0\n",
    "        i.e -i/400 + 2 e^(-i/400) -2 - log (1000 /(premium * pbenchmark) = 0\n",
    "'''"
   ]
  },
  {
   "cell_type": "code",
   "execution_count": 71,
   "metadata": {},
   "outputs": [],
   "source": [
    "from sympy.solvers import solve\n",
    "from sympy import Symbol, exp\n",
    "def calculate_incentive(y):\n",
    "    try:\n",
    "        Premium = y[0]\n",
    "        prob = y[1]\n",
    "        x = Symbol('x')\n",
    "        l = solve(-x/400 + 2 * exp(-x/400) - 2 - np.log(1000/(Premium * prob)), x)\n",
    "        return float(l[0])\n",
    "    except:\n",
    "        return 0.0\n",
    "        \n",
    "\n",
    "import multiprocessing\n",
    "from multiprocessing import Pool\n",
    "cores = multiprocessing.cpu_count()\n",
    "\n",
    "def parallelize_dataframe(df, func):\n",
    "    df_split = np.array_split(df, cores)\n",
    "    pool = Pool(cores)\n",
    "    df = pd.concat(pool.map(func, df_split))\n",
    "    pool.close()\n",
    "    pool.join()\n",
    "    return df\n",
    "\n",
    "def return_incentive(df):\n",
    "    df['incentives'] = df[['premium', 'renewal']].apply(lambda x : calculate_incentive(x), axis = 1)\n",
    "    return df\n",
    "\n",
    "%%time\n",
    "final_df = parallelize_dataframe( submission , return_incentive)\n",
    "print (final_df.head())"
   ]
  },
  {
   "cell_type": "code",
   "execution_count": 540,
   "metadata": {},
   "outputs": [],
   "source": [
    "# imp_per = lambda x: 20*(1-np.exp(-2*(1-np.exp(-x/400))))\n",
    "# inc_rev = lambda p, pr, inc: p*pr*imp_per(inc)/100. - inc\n",
    "# def opt_inc(p, pr):\n",
    "#     if inc_rev(p, pr, 1)<0: return 0\n",
    "#     max_rev = 0\n",
    "#     max_inc = 0\n",
    "#     inc = 1\n",
    "#     while inc_rev(p, pr, inc) > max_rev:\n",
    "#         max_rev = inc_rev(p, pr, inc)\n",
    "#         max_inc = inc #16\n",
    "#         inc *= 2 #32\n",
    "#     fac = inc / 4. #8\n",
    "#     inc -= fac #24\n",
    "#     fac /= 2. #4\n",
    "#     while fac>=1:\n",
    "#         if inc_rev(p, pr, inc)>max_rev:\n",
    "#             max_rev = inc_rev(p, pr, inc)\n",
    "#             max_inc = inc\n",
    "#             inc += fac\n",
    "#         else:\n",
    "#             inc -= fac\n",
    "#         fac -= 2.\n",
    "#     return max_inc\n",
    "\n",
    "# submission['incentives'] = submission.apply(lambda x: opt_inc(x.renewal, x.premium), axis=1)\n",
    "# # final_df1.incentives = [0 if x <= 0 else x for x in final_df1.incentives]\n",
    "# submission.drop('premium', axis = 1).to_csv('LGBM6_84879_binarysearch_modified.csv', index=False)\n",
    "# submission.head()"
   ]
  },
  {
   "cell_type": "code",
   "execution_count": 73,
   "metadata": {},
   "outputs": [
    {
     "data": {
      "text/html": [
       "<div>\n",
       "<style scoped>\n",
       "    .dataframe tbody tr th:only-of-type {\n",
       "        vertical-align: middle;\n",
       "    }\n",
       "\n",
       "    .dataframe tbody tr th {\n",
       "        vertical-align: top;\n",
       "    }\n",
       "\n",
       "    .dataframe thead th {\n",
       "        text-align: right;\n",
       "    }\n",
       "</style>\n",
       "<table border=\"1\" class=\"dataframe\">\n",
       "  <thead>\n",
       "    <tr style=\"text-align: right;\">\n",
       "      <th></th>\n",
       "      <th>id</th>\n",
       "      <th>renewal</th>\n",
       "      <th>incentives</th>\n",
       "    </tr>\n",
       "  </thead>\n",
       "  <tbody>\n",
       "    <tr>\n",
       "      <th>0</th>\n",
       "      <td>649</td>\n",
       "      <td>0.979379</td>\n",
       "      <td>179.708539</td>\n",
       "    </tr>\n",
       "    <tr>\n",
       "      <th>1</th>\n",
       "      <td>81136</td>\n",
       "      <td>0.967940</td>\n",
       "      <td>438.259608</td>\n",
       "    </tr>\n",
       "    <tr>\n",
       "      <th>2</th>\n",
       "      <td>70762</td>\n",
       "      <td>0.752066</td>\n",
       "      <td>379.580659</td>\n",
       "    </tr>\n",
       "    <tr>\n",
       "      <th>3</th>\n",
       "      <td>53935</td>\n",
       "      <td>0.944339</td>\n",
       "      <td>264.557052</td>\n",
       "    </tr>\n",
       "    <tr>\n",
       "      <th>4</th>\n",
       "      <td>15476</td>\n",
       "      <td>0.907653</td>\n",
       "      <td>377.376712</td>\n",
       "    </tr>\n",
       "  </tbody>\n",
       "</table>\n",
       "</div>"
      ],
      "text/plain": [
       "      id   renewal  incentives\n",
       "0    649  0.979379  179.708539\n",
       "1  81136  0.967940  438.259608\n",
       "2  70762  0.752066  379.580659\n",
       "3  53935  0.944339  264.557052\n",
       "4  15476  0.907653  377.376712"
      ]
     },
     "execution_count": 73,
     "metadata": {},
     "output_type": "execute_result"
    }
   ],
   "source": [
    "final_df= final_df[['id', 'renewal', 'incentives']]\n",
    "final_df.head()"
   ]
  },
  {
   "cell_type": "code",
   "execution_count": 74,
   "metadata": {},
   "outputs": [
    {
     "data": {
      "text/html": [
       "<div>\n",
       "<style scoped>\n",
       "    .dataframe tbody tr th:only-of-type {\n",
       "        vertical-align: middle;\n",
       "    }\n",
       "\n",
       "    .dataframe tbody tr th {\n",
       "        vertical-align: top;\n",
       "    }\n",
       "\n",
       "    .dataframe thead th {\n",
       "        text-align: right;\n",
       "    }\n",
       "</style>\n",
       "<table border=\"1\" class=\"dataframe\">\n",
       "  <thead>\n",
       "    <tr style=\"text-align: right;\">\n",
       "      <th></th>\n",
       "      <th>id</th>\n",
       "      <th>renewal</th>\n",
       "      <th>incentives</th>\n",
       "    </tr>\n",
       "  </thead>\n",
       "  <tbody>\n",
       "    <tr>\n",
       "      <th>0</th>\n",
       "      <td>649</td>\n",
       "      <td>0.979379</td>\n",
       "      <td>179.708539</td>\n",
       "    </tr>\n",
       "    <tr>\n",
       "      <th>1</th>\n",
       "      <td>81136</td>\n",
       "      <td>0.967940</td>\n",
       "      <td>438.259608</td>\n",
       "    </tr>\n",
       "  </tbody>\n",
       "</table>\n",
       "</div>"
      ],
      "text/plain": [
       "      id   renewal  incentives\n",
       "0    649  0.979379  179.708539\n",
       "1  81136  0.967940  438.259608"
      ]
     },
     "execution_count": 74,
     "metadata": {},
     "output_type": "execute_result"
    }
   ],
   "source": [
    "final_df1 = final_df.copy()\n",
    "final_df1.incentives = [0 if x <= 0 else x for x in final_df1.incentives]\n",
    "final_df1.to_csv('LGBM7_849997_solver.csv', index=False)\n",
    "final_df1.head(2)"
   ]
  }
 ],
 "metadata": {
  "kernelspec": {
   "display_name": "Python 3",
   "language": "python",
   "name": "python3"
  },
  "language_info": {
   "codemirror_mode": {
    "name": "ipython",
    "version": 3
   },
   "file_extension": ".py",
   "mimetype": "text/x-python",
   "name": "python",
   "nbconvert_exporter": "python",
   "pygments_lexer": "ipython3",
   "version": "3.6.5"
  }
 },
 "nbformat": 4,
 "nbformat_minor": 2
}
